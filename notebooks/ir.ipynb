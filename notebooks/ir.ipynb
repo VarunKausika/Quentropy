{
 "cells": [
  {
   "cell_type": "code",
   "execution_count": 3,
   "metadata": {},
   "outputs": [],
   "source": [
    "import json\n",
    "import os\n",
    "\n",
    "dev_file = 'S:/Varun_Projects/sqlcopilot/data/sub_sampled_bird_dev_set.json'\n",
    "\n",
    "with open(dev_file, 'r') as file:\n",
    "    dev_set = json.load(file)"
   ]
  },
  {
   "cell_type": "code",
   "execution_count": 4,
   "metadata": {},
   "outputs": [
    {
     "ename": "KeyError",
     "evalue": "'BASE_URL'",
     "output_type": "error",
     "traceback": [
      "\u001b[1;31m---------------------------------------------------------------------------\u001b[0m",
      "\u001b[1;31mKeyError\u001b[0m                                  Traceback (most recent call last)",
      "Cell \u001b[1;32mIn[4], line 14\u001b[0m\n\u001b[0;32m      9\u001b[0m load_dotenv()\n\u001b[0;32m     11\u001b[0m model \u001b[38;5;241m=\u001b[39m \u001b[38;5;124m'\u001b[39m\u001b[38;5;124mtgi\u001b[39m\u001b[38;5;124m'\u001b[39m\n\u001b[0;32m     13\u001b[0m client \u001b[38;5;241m=\u001b[39m OpenAI(\n\u001b[1;32m---> 14\u001b[0m     base_url\u001b[38;5;241m=\u001b[39m\u001b[43mos\u001b[49m\u001b[38;5;241;43m.\u001b[39;49m\u001b[43menviron\u001b[49m\u001b[43m[\u001b[49m\u001b[38;5;124;43m'\u001b[39;49m\u001b[38;5;124;43mBASE_URL\u001b[39;49m\u001b[38;5;124;43m'\u001b[39;49m\u001b[43m]\u001b[49m,\n\u001b[0;32m     15\u001b[0m     api_key\u001b[38;5;241m=\u001b[39mos\u001b[38;5;241m.\u001b[39menviron[\u001b[38;5;124m'\u001b[39m\u001b[38;5;124mAPI_KEY\u001b[39m\u001b[38;5;124m'\u001b[39m]\n\u001b[0;32m     16\u001b[0m )\n\u001b[0;32m     18\u001b[0m llm \u001b[38;5;241m=\u001b[39m LLM(\n\u001b[0;32m     19\u001b[0m     client \u001b[38;5;241m=\u001b[39m client,\n\u001b[0;32m     20\u001b[0m     model \u001b[38;5;241m=\u001b[39m model, \n\u001b[1;32m   (...)\u001b[0m\n\u001b[0;32m     24\u001b[0m     }\n\u001b[0;32m     25\u001b[0m ) \u001b[38;5;66;03m# Need to change this function\u001b[39;00m\n\u001b[0;32m     27\u001b[0m question \u001b[38;5;241m=\u001b[39m \u001b[38;5;124m\"\u001b[39m\u001b[38;5;124mIn which city can you find the school in the state of California with the lowest latitude coordinates and what is its lowest grade? Indicate the school name.\u001b[39m\u001b[38;5;124m\"\u001b[39m\n",
      "File \u001b[1;32mC:\\Python310\\lib\\os.py:679\u001b[0m, in \u001b[0;36m_Environ.__getitem__\u001b[1;34m(self, key)\u001b[0m\n\u001b[0;32m    676\u001b[0m     value \u001b[38;5;241m=\u001b[39m \u001b[38;5;28mself\u001b[39m\u001b[38;5;241m.\u001b[39m_data[\u001b[38;5;28mself\u001b[39m\u001b[38;5;241m.\u001b[39mencodekey(key)]\n\u001b[0;32m    677\u001b[0m \u001b[38;5;28;01mexcept\u001b[39;00m \u001b[38;5;167;01mKeyError\u001b[39;00m:\n\u001b[0;32m    678\u001b[0m     \u001b[38;5;66;03m# raise KeyError with the original key value\u001b[39;00m\n\u001b[1;32m--> 679\u001b[0m     \u001b[38;5;28;01mraise\u001b[39;00m \u001b[38;5;167;01mKeyError\u001b[39;00m(key) \u001b[38;5;28;01mfrom\u001b[39;00m\u001b[38;5;250m \u001b[39m\u001b[38;5;28;01mNone\u001b[39;00m\n\u001b[0;32m    680\u001b[0m \u001b[38;5;28;01mreturn\u001b[39;00m \u001b[38;5;28mself\u001b[39m\u001b[38;5;241m.\u001b[39mdecodevalue(value)\n",
      "\u001b[1;31mKeyError\u001b[0m: 'BASE_URL'"
     ]
    }
   ],
   "source": [
    "from src.info_retrieval.utils import extract_keyword\n",
    "from src.model.inference_endpoints import LLM\n",
    "\n",
    "from src.model.inference_endpoints import LLM\n",
    "from openai import OpenAI\n",
    "\n",
    "import httpx\n",
    "from dotenv import load_dotenv\n",
    "load_dotenv()\n",
    "\n",
    "model = 'tgi'\n",
    "\n",
    "client = OpenAI(\n",
    "    base_url=os.environ['BASE_URL_MIXTRAL'],\n",
    "    api_key=os.environ['API_KEY_MIXTRAL']\n",
    ")\n",
    "\n",
    "llm = LLM(\n",
    "    client = client,\n",
    "    model = model, \n",
    "    gen_params = {\n",
    "        'STREAM': False,\n",
    "        'TEMPERATURE': 0, \n",
    "    }\n",
    ") # Need to change this function\n",
    "\n",
    "question = \"In which city can you find the school in the state of California with the lowest latitude coordinates and what is its lowest grade? Indicate the school name.\"\n",
    "hint = \"State of California refers to state = 'CA'\"\n",
    "print(f\"question: {question}\")\n",
    "\n",
    "kw = extract_keyword(\n",
    "    question = question,\n",
    "    hint = hint,\n",
    "    few_shot_examples = \"\"\"Question: Whats the fastest lap time ever in a race for Lewis Hamilton?\n",
    "    [\"FASTEST LAP TIME\", \"LEWIS HAMILTON\"]\"\"\",\n",
    "    model=llm\n",
    ")"
   ]
  },
  {
   "cell_type": "code",
   "execution_count": 3,
   "metadata": {},
   "outputs": [
    {
     "data": {
      "text/plain": [
       "['city',\n",
       " 'lowest latitude coordinates',\n",
       " 'school',\n",
       " 'state of California',\n",
       " 'CA',\n",
       " 'lowest grade']"
      ]
     },
     "execution_count": 3,
     "metadata": {},
     "output_type": "execute_result"
    }
   ],
   "source": [
    "kw"
   ]
  },
  {
   "cell_type": "code",
   "execution_count": 1,
   "metadata": {},
   "outputs": [
    {
     "ename": "NameError",
     "evalue": "name 'os' is not defined",
     "output_type": "error",
     "traceback": [
      "\u001b[1;31m---------------------------------------------------------------------------\u001b[0m",
      "\u001b[1;31mNameError\u001b[0m                                 Traceback (most recent call last)",
      "Cell \u001b[1;32mIn[1], line 6\u001b[0m\n\u001b[0;32m      1\u001b[0m \u001b[38;5;28;01mfrom\u001b[39;00m\u001b[38;5;250m \u001b[39m\u001b[38;5;21;01msrc\u001b[39;00m\u001b[38;5;21;01m.\u001b[39;00m\u001b[38;5;21;01minfo_retrieval\u001b[39;00m\u001b[38;5;21;01m.\u001b[39;00m\u001b[38;5;21;01mlsh\u001b[39;00m\u001b[38;5;250m \u001b[39m\u001b[38;5;28;01mimport\u001b[39;00m \u001b[38;5;241m*\u001b[39m\n\u001b[0;32m      3\u001b[0m database \u001b[38;5;241m=\u001b[39m  \u001b[38;5;124m\"\u001b[39m\u001b[38;5;124mcalifornia_schools\u001b[39m\u001b[38;5;124m\"\u001b[39m\n\u001b[0;32m      5\u001b[0m lsh, minhashes \u001b[38;5;241m=\u001b[39m load_db_lsh(\n\u001b[1;32m----> 6\u001b[0m     db_directory_path \u001b[38;5;241m=\u001b[39m \u001b[38;5;124mf\u001b[39m\u001b[38;5;124m\"\u001b[39m\u001b[38;5;132;01m{\u001b[39;00mos\u001b[38;5;241m.\u001b[39menviron[\u001b[38;5;124m'\u001b[39m\u001b[38;5;124mDATABASE_ROOT_PATH\u001b[39m\u001b[38;5;124m'\u001b[39m]\u001b[38;5;132;01m}\u001b[39;00m\u001b[38;5;124m/\u001b[39m\u001b[38;5;132;01m{\u001b[39;00mdatabase\u001b[38;5;132;01m}\u001b[39;00m\u001b[38;5;124m\"\u001b[39m\n\u001b[0;32m      7\u001b[0m )\n\u001b[0;32m      9\u001b[0m similar_values \u001b[38;5;241m=\u001b[39m []\n\u001b[0;32m     10\u001b[0m \u001b[38;5;28;01mfor\u001b[39;00m keyword \u001b[38;5;129;01min\u001b[39;00m kw:\n",
      "\u001b[1;31mNameError\u001b[0m: name 'os' is not defined"
     ]
    }
   ],
   "source": [
    "from src.info_retrieval.lsh import *\n",
    "\n",
    "database =  \"california_schools\"\n",
    "\n",
    "lsh, minhashes = load_db_lsh(\n",
    "    db_directory_path = f\"{os.environ['DATABASE_ROOT_PATH']}/{database}\"\n",
    ")\n",
    "\n",
    "similar_values = []\n",
    "for keyword in kw:\n",
    "    similar_values.append(\n",
    "        query_lsh(\n",
    "            lsh=lsh,\n",
    "            minhashes=minhashes,\n",
    "            keyword=keyword\n",
    "        )\n",
    "    )\n",
    "\n",
    "all_values = []\n",
    "for similar_value in similar_values:\n",
    "    for k, values in similar_value.items():\n",
    "        all_values.extend(values.values())\n",
    "\n",
    "all_values = [item for sublist in all_values for item in sublist]\n",
    "all_values = list(set(all_values))\n",
    "\n",
    "from src.info_retrieval.utils import semantic_rerank\n",
    "from src.model.embedding import Embedding\n",
    "\n",
    "embed_obj = Embedding() # Need to change this function\n",
    "\n",
    "semantic_values = []\n",
    "for keyword in kw: \n",
    "    semantic_values.append(\n",
    "        semantic_rerank(\n",
    "            embed_obj = embed_obj,\n",
    "            strings = all_values,\n",
    "            keyword = keyword\n",
    "        )\n",
    "    )"
   ]
  },
  {
   "cell_type": "code",
   "execution_count": 5,
   "metadata": {},
   "outputs": [],
   "source": [
    "def filter_dict_by_values(data, values_to_find):\n",
    "    temp = data\n",
    "    values_to_find_set = set(values_to_find)\n",
    "    for table_name, columns in temp.items():\n",
    "        for column_name, column_values in columns.items():\n",
    "            columns[column_name] = [value for value in column_values if value in values_to_find_set]\n",
    "\n",
    "    return temp\n",
    "\n",
    "filtered_similar_values = []\n",
    "for similars, semantics in zip(similar_values, semantic_values):\n",
    "    filtered_similar_values.append(\n",
    "        filter_dict_by_values(\n",
    "            data=similars,\n",
    "            values_to_find=semantics\n",
    "        )\n",
    "    )"
   ]
  },
  {
   "cell_type": "code",
   "execution_count": 6,
   "metadata": {},
   "outputs": [
    {
     "data": {
      "text/plain": [
       "[['The City',\n",
       "  'California City',\n",
       "  '21',\n",
       "  'Plate',\n",
       "  'King City',\n",
       "  'Schooler',\n",
       "  '11',\n",
       "  'Yuba City',\n",
       "  '16',\n",
       "  '8'],\n",
       " ['Rio de Plata Continuation High',\n",
       "  '47',\n",
       "  'California City',\n",
       "  'Northwest Day',\n",
       "  'Rio de Plata High',\n",
       "  'West Point',\n",
       "  'Le',\n",
       "  'Platis',\n",
       "  'Plate',\n",
       "  'Gerrity'],\n",
       " ['Schooler',\n",
       "  '16',\n",
       "  '13',\n",
       "  '21',\n",
       "  '11',\n",
       "  'Ungraded',\n",
       "  'Preschool',\n",
       "  '8',\n",
       "  '7',\n",
       "  'Plate'],\n",
       " ['California City',\n",
       "  'Sixth and California',\n",
       "  '5554 California St.',\n",
       "  '1434 California St.',\n",
       "  'Yuba City',\n",
       "  '1707 California Drive',\n",
       "  'Le',\n",
       "  'The City',\n",
       "  'Northwest Day',\n",
       "  'Plate'],\n",
       " ['California City',\n",
       "  'Sixth and California',\n",
       "  '5554 California St.',\n",
       "  '1434 California St.',\n",
       "  'Yuba City',\n",
       "  'The City',\n",
       "  '1707 California Drive',\n",
       "  'Le',\n",
       "  'Plate',\n",
       "  '11'],\n",
       " ['Ungraded', 'Schooler', '16', '11', '8', '13', '7', '21', 'Plate', 'Le']]"
      ]
     },
     "execution_count": 6,
     "metadata": {},
     "output_type": "execute_result"
    }
   ],
   "source": [
    "semantic_values"
   ]
  },
  {
   "cell_type": "code",
   "execution_count": 7,
   "metadata": {},
   "outputs": [],
   "source": [
    "import nltk\n",
    "\n",
    "for keyword, fsv in zip(kw, filtered_similar_values):\n",
    "    for table_name, v in fsv.items():\n",
    "        for col_name, value_list in v.items():\n",
    "            edit_dists = []\n",
    "            for value in value_list:\n",
    "                edit_dists.append(nltk.edit_distance(value, keyword))\n",
    "            if len(edit_dists) > 0:\n",
    "                v[col_name] = [value_list[edit_dists.index(sorted(edit_dists)[0])]]\n"
   ]
  },
  {
   "cell_type": "code",
   "execution_count": 8,
   "metadata": {},
   "outputs": [
    {
     "data": {
      "text/plain": [
       "[{'schools': {'AdmFName1': [],\n",
       "   'AdmLName1': [],\n",
       "   'City': ['Yuba City'],\n",
       "   'County': [],\n",
       "   'School': ['The City'],\n",
       "   'MailCity': ['Yuba City']},\n",
       "  'frpm': {'County Name': []},\n",
       "  'satscores': {'cname': []}},\n",
       " {'schools': {'MailCity': [],\n",
       "   'City': [],\n",
       "   'AdmLName1': ['Platis'],\n",
       "   'School': ['Rio de Plata High'],\n",
       "   'Street': [],\n",
       "   'StreetAbr': []}},\n",
       " {'frpm': {'School Type': ['Preschool']},\n",
       "  'schools': {'SOCType': ['Preschool'],\n",
       "   'School': ['Preschool'],\n",
       "   'EILName': ['Preschool'],\n",
       "   'AdmLName1': ['Schooler']}},\n",
       " {'schools': {'City': ['California City'],\n",
       "   'MailCity': ['California City'],\n",
       "   'MailStreet': ['Sixth and California'],\n",
       "   'Street': ['Sixth and California'],\n",
       "   'StreetAbr': ['1434 California St.'],\n",
       "   'MailStrAbr': ['Sixth and California']}},\n",
       " {'schools': {'GSoffered': [],\n",
       "   'AdmLName1': ['Le'],\n",
       "   'AdmFName1': [],\n",
       "   'Ext': ['11']},\n",
       "  'frpm': {'County Code': [], 'High Grade': []}},\n",
       " {'schools': {'EILName': ['Ungraded'],\n",
       "   'School': [],\n",
       "   'MailStreet': [],\n",
       "   'Street': [],\n",
       "   'MailCity': [],\n",
       "   'City': []},\n",
       "  'frpm': {'School Name': []}}]"
      ]
     },
     "execution_count": 8,
     "metadata": {},
     "output_type": "execute_result"
    }
   ],
   "source": [
    "filtered_similar_values"
   ]
  },
  {
   "cell_type": "code",
   "execution_count": null,
   "metadata": {},
   "outputs": [],
   "source": []
  }
 ],
 "metadata": {
  "kernelspec": {
   "display_name": "sqlcopilot-cwclWRYE-py3.10",
   "language": "python",
   "name": "python3"
  },
  "language_info": {
   "codemirror_mode": {
    "name": "ipython",
    "version": 3
   },
   "file_extension": ".py",
   "mimetype": "text/x-python",
   "name": "python",
   "nbconvert_exporter": "python",
   "pygments_lexer": "ipython3",
   "version": "3.10.4"
  }
 },
 "nbformat": 4,
 "nbformat_minor": 2
}
