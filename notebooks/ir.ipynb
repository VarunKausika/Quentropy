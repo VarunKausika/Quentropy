{
 "cells": [
  {
   "cell_type": "code",
   "execution_count": 1,
   "metadata": {},
   "outputs": [],
   "source": [
    "import json\n",
    "import os\n",
    "\n",
    "dev_file = 'S:/Varun_Projects/sqlcopilot/data/sub_sampled_bird_dev_set.json'\n",
    "\n",
    "with open(dev_file, 'r') as file:\n",
    "    dev_set = json.load(file)"
   ]
  },
  {
   "cell_type": "code",
   "execution_count": 2,
   "metadata": {},
   "outputs": [
    {
     "name": "stderr",
     "output_type": "stream",
     "text": [
      "c:\\Users\\varun\\AppData\\Local\\pypoetry\\Cache\\virtualenvs\\sqlcopilot-cwclWRYE-py3.10\\lib\\site-packages\\tqdm\\auto.py:21: TqdmWarning: IProgress not found. Please update jupyter and ipywidgets. See https://ipywidgets.readthedocs.io/en/stable/user_install.html\n",
      "  from .autonotebook import tqdm as notebook_tqdm\n"
     ]
    },
    {
     "name": "stdout",
     "output_type": "stream",
     "text": [
      "question: In which city can you find the school in the state of California with the lowest latitude coordinates and what is its lowest grade? Indicate the school name.\n",
      "COMPLETION ['city', 'lowest latitude coordinates', 'school', 'state of California', 'CA', 'lowest grade']\n"
     ]
    }
   ],
   "source": [
    "from src.info_retrieval.utils import extract_keyword\n",
    "from src.model.inference_endpoints import LLM\n",
    "\n",
    "from src.model.inference_endpoints import LLM\n",
    "from openai import OpenAI\n",
    "\n",
    "import httpx\n",
    "from dotenv import load_dotenv\n",
    "load_dotenv()\n",
    "\n",
    "model = 'tgi'\n",
    "\n",
    "client = OpenAI(\n",
    "    base_url=os.environ['BASE_URL'],\n",
    "    api_key=os.environ['API_KEY']\n",
    ")\n",
    "\n",
    "llm = LLM(\n",
    "    client = client,\n",
    "    model = model, \n",
    "    gen_params = {\n",
    "        'STREAM': False,\n",
    "        'TEMPERATURE': 0, \n",
    "    }\n",
    ") # Need to change this function\n",
    "\n",
    "question = \"In which city can you find the school in the state of California with the lowest latitude coordinates and what is its lowest grade? Indicate the school name.\"\n",
    "hint = \"State of California refers to state = 'CA'\"\n",
    "print(f\"question: {question}\")\n",
    "\n",
    "kw = extract_keyword(\n",
    "    question = question,\n",
    "    hint = hint,\n",
    "    few_shot_examples = \"\"\"Question: Whats the fastest lap time ever in a race for Lewis Hamilton?\n",
    "    [\"FASTEST LAP TIME\", \"LEWIS HAMILTON\"]\"\"\",\n",
    "    model=llm\n",
    ")"
   ]
  },
  {
   "cell_type": "code",
   "execution_count": 3,
   "metadata": {},
   "outputs": [
    {
     "data": {
      "text/plain": [
       "['city',\n",
       " 'lowest latitude coordinates',\n",
       " 'school',\n",
       " 'state of California',\n",
       " 'CA',\n",
       " 'lowest grade']"
      ]
     },
     "execution_count": 3,
     "metadata": {},
     "output_type": "execute_result"
    }
   ],
   "source": [
    "kw"
   ]
  },
  {
   "cell_type": "code",
   "execution_count": 4,
   "metadata": {},
   "outputs": [],
   "source": [
    "from src.info_retrieval.lsh import *\n",
    "\n",
    "database =  \"california_schools\"\n",
    "\n",
    "lsh, minhashes = load_db_lsh(\n",
    "    db_directory_path = f\"{os.environ['DATABASE_ROOT_PATH']}/{database}\"\n",
    ")\n",
    "\n",
    "similar_values = []\n",
    "for keyword in kw:\n",
    "    similar_values.append(\n",
    "        query_lsh(\n",
    "            lsh=lsh,\n",
    "            minhashes=minhashes,\n",
    "            keyword=keyword\n",
    "        )\n",
    "    )\n",
    "\n",
    "all_values = []\n",
    "for similar_value in similar_values:\n",
    "    for k, values in similar_value.items():\n",
    "        all_values.extend(values.values())\n",
    "\n",
    "all_values = [item for sublist in all_values for item in sublist]\n",
    "all_values = list(set(all_values))\n",
    "\n",
    "from src.info_retrieval.utils import semantic_rerank\n",
    "from src.model.embedding import Embedding\n",
    "\n",
    "embed_obj = Embedding() # Need to change this function\n",
    "\n",
    "semantic_values = []\n",
    "for keyword in kw: \n",
    "    semantic_values.append(\n",
    "        semantic_rerank(\n",
    "            embed_obj = embed_obj,\n",
    "            strings = all_values,\n",
    "            keyword = keyword\n",
    "        )\n",
    "    )"
   ]
  },
  {
   "cell_type": "code",
   "execution_count": 5,
   "metadata": {},
   "outputs": [],
   "source": [
    "def filter_dict_by_values(data, values_to_find):\n",
    "    temp = data\n",
    "    values_to_find_set = set(values_to_find)\n",
    "    for table_name, columns in temp.items():\n",
    "        for column_name, column_values in columns.items():\n",
    "            columns[column_name] = [value for value in column_values if value in values_to_find_set]\n",
    "\n",
    "    return temp\n",
    "\n",
    "filtered_similar_values = []\n",
    "for similars, semantics in zip(similar_values, semantic_values):\n",
    "    filtered_similar_values.append(\n",
    "        filter_dict_by_values(\n",
    "            data=similars,\n",
    "            values_to_find=semantics\n",
    "        )\n",
    "    )"
   ]
  },
  {
   "cell_type": "code",
   "execution_count": 6,
   "metadata": {},
   "outputs": [
    {
     "data": {
      "text/plain": [
       "[['The City',\n",
       "  'California City',\n",
       "  '21',\n",
       "  'Plate',\n",
       "  'King City',\n",
       "  'Schooler',\n",
       "  '11',\n",
       "  'Yuba City',\n",
       "  '16',\n",
       "  '8'],\n",
       " ['Rio de Plata Continuation High',\n",
       "  '47',\n",
       "  'California City',\n",
       "  'Northwest Day',\n",
       "  'Rio de Plata High',\n",
       "  'West Point',\n",
       "  'Le',\n",
       "  'Platis',\n",
       "  'Plate',\n",
       "  'Gerrity'],\n",
       " ['Schooler',\n",
       "  '16',\n",
       "  '13',\n",
       "  '21',\n",
       "  '11',\n",
       "  'Ungraded',\n",
       "  'Preschool',\n",
       "  '8',\n",
       "  '7',\n",
       "  'Plate'],\n",
       " ['California City',\n",
       "  'Sixth and California',\n",
       "  '5554 California St.',\n",
       "  '1434 California St.',\n",
       "  'Yuba City',\n",
       "  '1707 California Drive',\n",
       "  'Le',\n",
       "  'The City',\n",
       "  'Northwest Day',\n",
       "  'Plate'],\n",
       " ['California City',\n",
       "  'Sixth and California',\n",
       "  '5554 California St.',\n",
       "  '1434 California St.',\n",
       "  'Yuba City',\n",
       "  'The City',\n",
       "  '1707 California Drive',\n",
       "  'Le',\n",
       "  'Plate',\n",
       "  '11'],\n",
       " ['Ungraded', 'Schooler', '16', '11', '8', '13', '7', '21', 'Plate', 'Le']]"
      ]
     },
     "execution_count": 6,
     "metadata": {},
     "output_type": "execute_result"
    }
   ],
   "source": [
    "semantic_values"
   ]
  },
  {
   "cell_type": "code",
   "execution_count": 7,
   "metadata": {},
   "outputs": [],
   "source": [
    "import nltk\n",
    "\n",
    "for keyword, fsv in zip(kw, filtered_similar_values):\n",
    "    for table_name, v in fsv.items():\n",
    "        for col_name, value_list in v.items():\n",
    "            edit_dists = []\n",
    "            for value in value_list:\n",
    "                edit_dists.append(nltk.edit_distance(value, keyword))\n",
    "            if len(edit_dists) > 0:\n",
    "                v[col_name] = [value_list[edit_dists.index(sorted(edit_dists)[0])]]\n"
   ]
  },
  {
   "cell_type": "code",
   "execution_count": 8,
   "metadata": {},
   "outputs": [
    {
     "data": {
      "text/plain": [
       "[{'schools': {'AdmFName1': [],\n",
       "   'AdmLName1': [],\n",
       "   'City': ['Yuba City'],\n",
       "   'County': [],\n",
       "   'School': ['The City'],\n",
       "   'MailCity': ['Yuba City']},\n",
       "  'frpm': {'County Name': []},\n",
       "  'satscores': {'cname': []}},\n",
       " {'schools': {'MailCity': [],\n",
       "   'City': [],\n",
       "   'AdmLName1': ['Platis'],\n",
       "   'School': ['Rio de Plata High'],\n",
       "   'Street': [],\n",
       "   'StreetAbr': []}},\n",
       " {'frpm': {'School Type': ['Preschool']},\n",
       "  'schools': {'SOCType': ['Preschool'],\n",
       "   'School': ['Preschool'],\n",
       "   'EILName': ['Preschool'],\n",
       "   'AdmLName1': ['Schooler']}},\n",
       " {'schools': {'City': ['California City'],\n",
       "   'MailCity': ['California City'],\n",
       "   'MailStreet': ['Sixth and California'],\n",
       "   'Street': ['Sixth and California'],\n",
       "   'StreetAbr': ['1434 California St.'],\n",
       "   'MailStrAbr': ['Sixth and California']}},\n",
       " {'schools': {'GSoffered': [],\n",
       "   'AdmLName1': ['Le'],\n",
       "   'AdmFName1': [],\n",
       "   'Ext': ['11']},\n",
       "  'frpm': {'County Code': [], 'High Grade': []}},\n",
       " {'schools': {'EILName': ['Ungraded'],\n",
       "   'School': [],\n",
       "   'MailStreet': [],\n",
       "   'Street': [],\n",
       "   'MailCity': [],\n",
       "   'City': []},\n",
       "  'frpm': {'School Name': []}}]"
      ]
     },
     "execution_count": 8,
     "metadata": {},
     "output_type": "execute_result"
    }
   ],
   "source": [
    "filtered_similar_values"
   ]
  },
  {
   "cell_type": "code",
   "execution_count": null,
   "metadata": {},
   "outputs": [],
   "source": []
  }
 ],
 "metadata": {
  "kernelspec": {
   "display_name": "sqlcopilot-cwclWRYE-py3.10",
   "language": "python",
   "name": "python3"
  },
  "language_info": {
   "codemirror_mode": {
    "name": "ipython",
    "version": 3
   },
   "file_extension": ".py",
   "mimetype": "text/x-python",
   "name": "python",
   "nbconvert_exporter": "python",
   "pygments_lexer": "ipython3",
   "version": "3.10.4"
  }
 },
 "nbformat": 4,
 "nbformat_minor": 2
}
