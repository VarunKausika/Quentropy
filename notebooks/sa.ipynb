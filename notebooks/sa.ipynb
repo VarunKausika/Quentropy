{
 "cells": [
  {
   "cell_type": "code",
   "execution_count": 1,
   "metadata": {},
   "outputs": [
    {
     "name": "stderr",
     "output_type": "stream",
     "text": [
      "c:\\Users\\varun\\AppData\\Local\\pypoetry\\Cache\\virtualenvs\\sqlcopilot-cwclWRYE-py3.10\\lib\\site-packages\\tqdm\\auto.py:21: TqdmWarning: IProgress not found. Please update jupyter and ipywidgets. See https://ipywidgets.readthedocs.io/en/stable/user_install.html\n",
      "  from .autonotebook import tqdm as notebook_tqdm\n"
     ]
    }
   ],
   "source": [
    "from src.selection_agent.utils import select_agent\n",
    "from src.model.inference_endpoints import LLM\n",
    "import os\n",
    "\n",
    "def select_best_candidate(\n",
    "    fixed_queries: list[tuple[str, list[tuple[str]]]],\n",
    "    ir: list[str],\n",
    "    database_name: str,\n",
    "    database_path: str, \n",
    "    question: str,\n",
    "    hint: str,\n",
    "    model: LLM\n",
    "):\n",
    "    queries = []\n",
    "    results = []\n",
    "    for i in fixed_queries:\n",
    "        queries.append(i[0])\n",
    "        results.append(i[1])\n",
    "    \n",
    "    best_query = None\n",
    "    best_result = None\n",
    "    scores = {query: 0 for query, result in fixed_queries}\n",
    "    for i in range(len(fixed_queries)):\n",
    "        for j in range(i+1, len(fixed_queries)):\n",
    "            candidate_a_query, candidate_a_result = fixed_queries[i]\n",
    "            candidate_b_query, candidate_b_result = fixed_queries[j]\n",
    "\n",
    "            if set(candidate_a_result) == set(candidate_b_result):\n",
    "                scores[candidate_a_query] += 1\n",
    "\n",
    "            else:\n",
    "                selected_query = select_agent(\n",
    "                    ir = ir,\n",
    "                    database_name = database_name,\n",
    "                    database_path = database_path,\n",
    "                    question = question,\n",
    "                    hint = hint,\n",
    "                    queries = queries,\n",
    "                    results = results,\n",
    "                    model = model, \n",
    "                )\n",
    "\n",
    "                if selected_query == \"A\":\n",
    "                    scores[candidate_a_query] += 1\n",
    "                \n",
    "                else:\n",
    "                    scores[candidate_b_query] += 1\n",
    "    \n",
    "    if len(scores) > 0:\n",
    "\n",
    "        best_query = max(scores, key = scores.get)\n",
    "        best_result = next(result for query, result in fixed_queries if query == best_query)\n",
    "        return best_query, best_result\n",
    "    \n",
    "    else:\n",
    "        return None, None"
   ]
  },
  {
   "cell_type": "code",
   "execution_count": 2,
   "metadata": {},
   "outputs": [],
   "source": [
    "import httpx\n",
    "from openai import OpenAI\n",
    "from random import shuffle\n",
    "\n",
    "fixed_queries = [('SELECT T1.\"School Name\", T1.\"Low Grade\", T2.Latitude FROM frpm T1 INNER JOIN schools T2 ON T1.CDSCode = T2.CDSCode WHERE T2.State = \\'CA\\' AND T2.Latitude = (SELECT MIN(T2.Latitude) FROM schools T2 WHERE T2.State = \\'CA\\')',\n",
    "  [('Willow Elementary', 'K', 32.547737)])]\n",
    "shuffle(fixed_queries)\n",
    "\n",
    "ir = [\"`schools`.`City`.`San Diego`\", \"`frpm`.`Low Grade`\", \"`frpm`.`School Name`.`Vidya Mandir`\", \"`frpm`.`CDSCode`\", \"`schools.CDSCode`\", \"`schools`. `State`\", \"`schools`.`Latitude`\"]\n",
    "question = \"In which city can you find the school in the state of California with the lowest latitude coordinates and what is its lowest grade? Indicate the school name.\"\n",
    "hint = \"State of California refers to state = 'CA'\"\n",
    "database_name = \"california_schools\"\n",
    "database_path = f\"{os.environ['DATABASE_ROOT_PATH']}/{database_name}\"\n",
    "\n",
    "http_client = httpx.Client(verify=False)\n",
    "model = 'tgi'\n",
    "\n",
    "client = OpenAI(\n",
    "    base_url=os.environ['BASE_URL'],\n",
    "    http_client=http_client,\n",
    "    api_key=os.environ['API_KEY']\n",
    ")\n",
    "\n",
    "llm = LLM(\n",
    "    client = client,\n",
    "    model = model, \n",
    "    gen_params = {\n",
    "        'STREAM': False,\n",
    "        'TEMPERATURE': 0.5,\n",
    "        'MAX_NEW_TOKENS': 2048 \n",
    "    }\n",
    ") # Need to change this function\n",
    "\n",
    "best_query, best_result = select_best_candidate(\n",
    "    fixed_queries=fixed_queries,\n",
    "    ir=ir,\n",
    "    database_name=database_name,\n",
    "    database_path=database_path,\n",
    "    question=question,\n",
    "    hint=hint,\n",
    "    model=llm\n",
    ")\n",
    "\n"
   ]
  },
  {
   "cell_type": "code",
   "execution_count": 3,
   "metadata": {},
   "outputs": [
    {
     "data": {
      "text/plain": [
       "'SELECT T1.\"School Name\", T1.\"Low Grade\", T2.Latitude FROM frpm T1 INNER JOIN schools T2 ON T1.CDSCode = T2.CDSCode WHERE T2.State = \\'CA\\' AND T2.Latitude = (SELECT MIN(T2.Latitude) FROM schools T2 WHERE T2.State = \\'CA\\')'"
      ]
     },
     "execution_count": 3,
     "metadata": {},
     "output_type": "execute_result"
    }
   ],
   "source": [
    "best_query"
   ]
  },
  {
   "cell_type": "code",
   "execution_count": 4,
   "metadata": {},
   "outputs": [
    {
     "data": {
      "text/plain": [
       "[('Willow Elementary', 'K', 32.547737)]"
      ]
     },
     "execution_count": 4,
     "metadata": {},
     "output_type": "execute_result"
    }
   ],
   "source": [
    "best_result"
   ]
  },
  {
   "cell_type": "code",
   "execution_count": null,
   "metadata": {},
   "outputs": [],
   "source": []
  }
 ],
 "metadata": {
  "kernelspec": {
   "display_name": "sqlcopilot-cwclWRYE-py3.10",
   "language": "python",
   "name": "python3"
  },
  "language_info": {
   "codemirror_mode": {
    "name": "ipython",
    "version": 3
   },
   "file_extension": ".py",
   "mimetype": "text/x-python",
   "name": "python",
   "nbconvert_exporter": "python",
   "pygments_lexer": "ipython3",
   "version": "3.10.4"
  }
 },
 "nbformat": 4,
 "nbformat_minor": 2
}
