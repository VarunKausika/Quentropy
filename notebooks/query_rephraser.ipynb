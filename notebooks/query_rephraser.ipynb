{
 "cells": [
  {
   "cell_type": "code",
   "execution_count": 1,
   "metadata": {},
   "outputs": [],
   "source": [
    "import json\n",
    "import os\n",
    "\n",
    "bird_dev_file = r'C:\\Users\\SatyaSaurabh_Mishra\\Downloads\\workspace\\Paper for ICML\\Text2sql\\exploring-text-to-sql\\data\\sub_sampled_bird_dev_set.json'\n",
    "\n",
    "with open(bird_dev_file, 'r') as file:\n",
    "    bird_dev_set = json.load(file)"
   ]
  },
  {
   "cell_type": "code",
   "execution_count": 2,
   "metadata": {},
   "outputs": [
    {
     "data": {
      "text/plain": [
       "{'question_id': 35,\n",
       " 'db_id': 'california_schools',\n",
       " 'question': \"What is the administrator's email address of the chartered school with the fewest students enrolled in grades 1 through 12?\",\n",
       " 'evidence': 'Charted school means `Charter School (Y/N)` = 1 in the table frpm; Students enrolled in grades 1 through 12 refers to `Enrollment (K-12)`',\n",
       " 'SQL': 'SELECT T2.AdmEmail1 FROM frpm AS T1 INNER JOIN schools AS T2 ON T1.CDSCode = T2.CDSCode WHERE T1.`Charter School (Y/N)` = 1 ORDER BY T1.`Enrollment (K-12)` ASC LIMIT 1',\n",
       " 'difficulty': 'moderate'}"
      ]
     },
     "execution_count": 2,
     "metadata": {},
     "output_type": "execute_result"
    }
   ],
   "source": [
    "bird_dev_set[3]"
   ]
  },
  {
   "cell_type": "code",
   "execution_count": 3,
   "metadata": {},
   "outputs": [
    {
     "name": "stdout",
     "output_type": "stream",
     "text": [
      "defaultdict(<class 'list'>, {'schools': ['CDSCode', 'AdmEmail1'], 'frpm': ['CDSCode', 'Charter School (Y/N)', 'Enrollment (K-12)']})\n"
     ]
    }
   ],
   "source": [
    "import pandas as pd\n",
    "from collections import defaultdict\n",
    "\n",
    "col_hash = defaultdict(list)\n",
    "\n",
    "database = \"california_schools\"\n",
    "ir = [\"`schools`.`CDSCode`\", \"`schools`.`AdmEmail1`\",\"`frpm`.`CDSCode`\",\"`frpm`.`Charter School (Y/N)`\",\"`frpm`.`Enrollment (K-12)`\"]\n",
    "\n",
    "\n",
    "for col in ir:\n",
    "    table = col.split('.')[0].strip('`')\n",
    "    col = col.split('.')[1].strip('`')\n",
    "    col_hash[table].append(col)\n",
    "    \n",
    "print(col_hash)\n",
    "\n",
    "test_question = bird_dev_set[3]['question']\n",
    "test_hint = bird_dev_set[3]['evidence']\n"
   ]
  },
  {
   "cell_type": "markdown",
   "metadata": {},
   "source": [
    "# Query rephrasing"
   ]
  },
  {
   "cell_type": "code",
   "execution_count": 4,
   "metadata": {},
   "outputs": [],
   "source": [
    "# creating instruction string\n",
    "instruction_str = \"\"\"<s>[INST] <<SYS>>You are expert in rephrasing the question. Given the question, rephrase it into a new question by \n",
    "identifying and incorporating relevant information from the given columns by breaking the process into step by step such \n",
    "that the final rephrased question expliciitly mentions the columns needed in SQL to answer the questions.\n",
    "\n",
    "** Please Note ** :\n",
    "    - Provide the rephrased questions maintaining the context and intent of the original question. \n",
    "    - Use (refer - table.column name) format to add details in final rephrased query.\n",
    "    - DO NOT USE ANY INFORMATION FROM THE EXAMPLE IN YOUR ANSWER. IT IS MEANT ONLY FOR YOUR UNDERSTANDING.\n",
    "\n",
    "** Inputs ** :\n",
    "Original Question: This is natural language question that need to rephrased.\n",
    "Hint: This is hint for the original question for your help.\n",
    "Required Columns: This is a dictionary in which the keys are table and the values are list of columns. \n",
    "\n",
    "** Output **:\n",
    "The output should be a rephrased version of the question, rewritten to include the columns names in question,\n",
    "so it becomes clear which SQL columns are being referred to. \n",
    "<</SYS>>\n",
    "\"\"\"\n",
    "\n",
    "# creating question string\n",
    "question_str = f\"\"\"\n",
    "Question: {test_question}\n",
    "Hint: {test_hint}\n",
    "Columns:{col_hash}\n",
    "\"\"\""
   ]
  },
  {
   "cell_type": "code",
   "execution_count": 5,
   "metadata": {},
   "outputs": [],
   "source": [
    "# creating one shot example string (create more examples later)\n",
    "one_shot_example = \"\"\"\n",
    "<example>\n",
    "**Here is the EXAMPLE for your Understanding:**\n",
    "\n",
    "**Original question**: In which city can you find the school in the state of California with the lowest latitude coordinates and what is its lowest grade? Indicate the school name.\n",
    "**Hint**: State of California refers to state = 'CA'\n",
    "**Columns**: defaultdict(<class 'list'>, {'schools': ['City', 'CDSCode', 'State', 'Latitude'], 'frpm': ['Low Grade', 'School Name', 'CDSCode']})\n",
    "\n",
    "Steps to rephrase the Query:\n",
    "\n",
    "* **Step 1:** Identify the Key Components of the Question\n",
    "* **Analysis:**\n",
    "-\"City\" where the school is located\n",
    "-\"Lowest latitude coordinates\" of the school\n",
    "-\"State\" which is California ('CA') from the hint\n",
    "-\"Lowest grade\" of the school\n",
    "-\"School name\"\n",
    "* **Step 2:** Map the Identified Components to the Columns\n",
    "* **Analysis:**\n",
    "-\"City\" -> City (from 'schools' table)\n",
    "-\"Lowest latitude coordinates\" -> Latitude (from 'schools' table)\n",
    "-\"State\" (California) -> State (from 'schools' table) with value 'CA'\n",
    "-\"Lowest grade\" -> Low Grade (from 'frpm' table)\n",
    "-\"School name\" -> School Name (from 'frpm' table)\n",
    "-Common identifier to link both tables -> CDSCode\n",
    "* **Step 3:** Construct the rephrased Query:\n",
    "    -Extract the city and school name by identifying the school with the lowest latitude in California.\n",
    "    -Ensure the query incorporates both \"Low Grade\" and \"School Name\" columns.\n",
    "    -Utilize the CDSCode to join the tables.\n",
    "\n",
    "**Final rephrased Question\": In which city (refer - schools.City) can you find the school in the state of California (refer - schools.State = 'CA') with the lowest latitude (refer - schools.Latitude) coordinates, and what is its lowest grade (refer - frpm.Low Grade) Indicate the school name (refer - frpm.School Name).\n",
    "</example>\n",
    "\"\"\""
   ]
  },
  {
   "cell_type": "code",
   "execution_count": 6,
   "metadata": {},
   "outputs": [],
   "source": [
    "# creating full prompt\n",
    "query_rephrase_prompt = f\"\"\"{instruction_str}\n",
    "**************************\n",
    "{one_shot_example}\n",
    "**************************\n",
    "{question_str}\n",
    "**************************\n",
    "ANSWER: \n",
    "[/INST]</s>\n",
    "\"\"\""
   ]
  },
  {
   "cell_type": "code",
   "execution_count": 7,
   "metadata": {},
   "outputs": [
    {
     "name": "stdout",
     "output_type": "stream",
     "text": [
      "<s>[INST] <<SYS>>You are expert in rephrasing the question. Given the question, rephrase it into a new question by \n",
      "identifying and incorporating relevant information from the given columns by breaking the process into step by step such \n",
      "that the final rephrased question expliciitly mentions the columns needed in SQL to answer the questions.\n",
      "\n",
      "** Please Note ** :\n",
      "    - Provide the rephrased questions maintaining the context and intent of the original question. \n",
      "    - Use (refer - table.column name) format to add details in final rephrased query.\n",
      "    - DO NOT USE ANY INFORMATION FROM THE EXAMPLE IN YOUR ANSWER. IT IS MEANT ONLY FOR YOUR UNDERSTANDING.\n",
      "\n",
      "** Inputs ** :\n",
      "Original Question: This is natural language question that i want to convert.\n",
      "Hint: This is hint for the original question for your help.\n",
      "Required Columns: This is a dictionary in which the keys are table and the values are list of columns. \n",
      "\n",
      "** Output **:\n",
      "The output should be a rephrased version of the question, rewritten to include the columns names in question,\n",
      "so it becomes clear which SQL columns are being referred to. \n",
      "<</SYS>>\n",
      "\n",
      "**************************\n",
      "\n",
      "<example>\n",
      "**Here is the EXAMPLE for your Understanding:**\n",
      "\n",
      "**Original question**: In which city can you find the school in the state of California with the lowest latitude coordinates and what is its lowest grade? Indicate the school name.\n",
      "**Hint**: State of California refers to state = 'CA'\n",
      "**Columns**: defaultdict(<class 'list'>, {'schools': ['City', 'CDSCode', 'State', 'Latitude'], 'frpm': ['Low Grade', 'School Name', 'CDSCode']})\n",
      "\n",
      "Steps to rephrase the Query:\n",
      "\n",
      "* **Step 1:** Identify the Key Components of the Question\n",
      "* **Analysis:**\n",
      "-\"City\" where the school is located\n",
      "-\"Lowest latitude coordinates\" of the school\n",
      "-\"State\" which is California ('CA') from the hint\n",
      "-\"Lowest grade\" of the school\n",
      "-\"School name\"\n",
      "* **Step 2:** Map the Identified Components to the Columns\n",
      "* **Analysis:**\n",
      "-\"City\" -> City (from 'schools' table)\n",
      "-\"Lowest latitude coordinates\" -> Latitude (from 'schools' table)\n",
      "-\"State\" (California) -> State (from 'schools' table) with value 'CA'\n",
      "-\"Lowest grade\" -> Low Grade (from 'frpm' table)\n",
      "-\"School name\" -> School Name (from 'frpm' table)\n",
      "-Common identifier to link both tables -> CDSCode\n",
      "* **Step 3:** Construct the rephrased Query:\n",
      "    -Extract the city and school name by identifying the school with the lowest latitude in California.\n",
      "    -Ensure the query incorporates both \"Low Grade\" and \"School Name\" columns.\n",
      "    -Utilize the CDSCode to join the tables.\n",
      "\n",
      "**Final rephrased Question\": In which city (refer - schools.City) can you find the school in the state of California (refer - schools.State = 'CA') with the lowest latitude (refer - schools.Latitude) coordinates, and what is its lowest grade (refer - frpm.Low Grade) Indicate the school name (refer - frpm.School Name).\n",
      "</example>\n",
      "\n",
      "**************************\n",
      "\n",
      "Question: What is the administrator's email address of the chartered school with the fewest students enrolled in grades 1 through 12?\n",
      "Hint: Charted school means `Charter School (Y/N)` = 1 in the table frpm; Students enrolled in grades 1 through 12 refers to `Enrollment (K-12)`\n",
      "Columns:defaultdict(<class 'list'>, {'schools': ['CDSCode', 'AdmEmail1'], 'frpm': ['CDSCode', 'Charter School (Y/N)', 'Enrollment (K-12)']})\n",
      "\n",
      "**************************\n",
      "ANSWER: \n",
      "[/INST]</s>\n",
      "\n"
     ]
    }
   ],
   "source": [
    "print(query_rephrase_prompt)"
   ]
  },
  {
   "cell_type": "code",
   "execution_count": 8,
   "metadata": {},
   "outputs": [
    {
     "name": "stderr",
     "output_type": "stream",
     "text": [
      "c:\\Users\\SatyaSaurabh_Mishra\\Downloads\\workspace\\Paper for ICML\\Text2sql\\exploring-text-to-sql\\poetry_sql_icml\\lib\\site-packages\\tqdm\\auto.py:21: TqdmWarning: IProgress not found. Please update jupyter and ipywidgets. See https://ipywidgets.readthedocs.io/en/stable/user_install.html\n",
      "  from .autonotebook import tqdm as notebook_tqdm\n",
      "None of PyTorch, TensorFlow >= 2.0, or Flax have been found. Models won't be available and only tokenizers, configuration and file/data utilities can be used.\n"
     ]
    }
   ],
   "source": [
    "from src.model.dsx_openai import LLM\n",
    "from openai import OpenAI\n",
    "import httpx\n",
    "from dotenv import load_dotenv\n",
    "load_dotenv()\n",
    "\n",
    "# model = 'mixtral-8x7b-instruct-v01'\n",
    "# model = 'codestral-22b-v0-1'\n",
    "model = 'llama-3-8b-instruct'\n",
    "\n",
    "http_client=httpx.Client(verify=False)\n",
    "client = OpenAI(\n",
    "    base_url=os.environ['DSX_URL'],\n",
    "    http_client=http_client,\n",
    "    api_key=os.environ['DSX_API_KEY']\n",
    ")\n",
    " \n",
    "llm = LLM(\n",
    "    client=client,\n",
    "    model=model,\n",
    "    gen_params={\n",
    "        'stream': True,\n",
    "        'TEMPERATURE': 0,\n",
    "        'MAX_NEW_TOKENS': 4096\n",
    "    }\n",
    ")"
   ]
  },
  {
   "cell_type": "code",
   "execution_count": 9,
   "metadata": {},
   "outputs": [],
   "source": [
    "completion = llm(\n",
    "        response_type='single',\n",
    "        prompts=query_rephrase_prompt\n",
    "    )"
   ]
  },
  {
   "cell_type": "code",
   "execution_count": 10,
   "metadata": {},
   "outputs": [
    {
     "name": "stdout",
     "output_type": "stream",
     "text": [
      "Here is the rephrased question:\n",
      "\n",
      "What is the administrator's email address (refer - schools.AdmEmail1) of the chartered school (refer - frpm.Charter School (Y/N) = 1) with the fewest students enrolled in grades 1 through 12 (refer - frpm.Enrollment (K-12))?\n"
     ]
    }
   ],
   "source": [
    "print(completion.result)"
   ]
  },
  {
   "cell_type": "code",
   "execution_count": null,
   "metadata": {},
   "outputs": [],
   "source": []
  }
 ],
 "metadata": {
  "kernelspec": {
   "display_name": "Python 3.10.5 ('poetry_sql_icml': venv)",
   "language": "python",
   "name": "python3"
  },
  "language_info": {
   "codemirror_mode": {
    "name": "ipython",
    "version": 3
   },
   "file_extension": ".py",
   "mimetype": "text/x-python",
   "name": "python",
   "nbconvert_exporter": "python",
   "pygments_lexer": "ipython3",
   "version": "3.10.5"
  },
  "orig_nbformat": 4,
  "vscode": {
   "interpreter": {
    "hash": "2a30f47f32ac0ba4ca0096cf15e9c996b3c2b18c4fb1e40f755ebfd9f29b007c"
   }
  }
 },
 "nbformat": 4,
 "nbformat_minor": 2
}
