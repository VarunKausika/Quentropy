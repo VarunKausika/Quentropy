{
 "cells": [
  {
   "cell_type": "markdown",
   "metadata": {},
   "source": [
    "## Divide and Conquer COT"
   ]
  },
  {
   "cell_type": "code",
   "execution_count": 1,
   "metadata": {},
   "outputs": [
    {
     "name": "stderr",
     "output_type": "stream",
     "text": [
      "c:\\Users\\varun\\AppData\\Local\\pypoetry\\Cache\\virtualenvs\\sqlcopilot-cwclWRYE-py3.10\\lib\\site-packages\\tqdm\\auto.py:21: TqdmWarning: IProgress not found. Please update jupyter and ipywidgets. See https://ipywidgets.readthedocs.io/en/stable/user_install.html\n",
      "  from .autonotebook import tqdm as notebook_tqdm\n"
     ]
    }
   ],
   "source": [
    "import os\n",
    "from src.cand_gen.utils import divide_and_conquer, parse_sql_cand\n",
    "from src.model.inference_endpoints import LLM\n",
    "from openai import OpenAI\n",
    "\n",
    "import httpx\n",
    "from dotenv import load_dotenv\n",
    "load_dotenv()\n",
    "\n",
    "model = 'tgi'\n",
    "\n",
    "client = OpenAI(\n",
    "    base_url=os.environ['BASE_URL'],\n",
    "    api_key=os.environ['API_KEY']\n",
    ")\n",
    "\n",
    "llm = LLM(\n",
    "    client = client,\n",
    "    model = model, \n",
    "    gen_params = {\n",
    "        'STREAM': False,\n",
    "        'TEMPERATURE': 0, \n",
    "        'MAX_NEW_TOKENS': 2048\n",
    "    }\n",
    ")\n",
    "\n",
    "database = \"california_schools\"\n",
    "database_path = f\"{os.environ['DATABASE_ROOT_PATH']}/{database}\"\n",
    "ir = [\"`schools`.`City`.`San Diego`\", \"`frpm`.`Low Grade`\", \"`frpm`.`School Name`.`Vidya Mandir`\", \"`frpm`.`CDSCode`\", \"`schools`.`CDSCode`\", \"`schools`.`State`\", \"`schools`.`Latitude`\"]\n",
    "test_question = \"In which city can you find the school in the state of California with the lowest latitude coordinates and what is its lowest grade? Indicate the school name.\"\n",
    "test_hint = \"State of California refers to state = 'CA'\"\n",
    "test_ground_truth = \"SELECT T2.City, T1.`Low Grade`, T1.`School Name` FROM frpm AS T1 INNER JOIN schools AS T2 ON T1.CDSCode = T2.CDSCode WHERE T2.State = 'CA' ORDER BY T2.Latitude ASC LIMIT 1\"\n",
    "\n",
    "answer = divide_and_conquer(\n",
    "    database_name = database,\n",
    "    database_path = database_path,\n",
    "    ir = ir,\n",
    "    question = test_question,\n",
    "    hint = test_hint,\n",
    "    model = llm\n",
    ")"
   ]
  },
  {
   "cell_type": "code",
   "execution_count": 2,
   "metadata": {},
   "outputs": [
    {
     "name": "stdout",
     "output_type": "stream",
     "text": [
      "with the lowest latitude coordinates and what is its lowest grade? Indicate the school name.\n",
      "* **Analysis:** We need to find the school with the lowest latitude in the state of California. The school name and lowest grade are required as output.\n",
      "* **Pseudo SQL:** SELECT 'T1'.'City', 'T1'.'Low Grade', 'T2'.'Latitude' FROM 'frpm' AS 'T1' INNER JOIN 'schools' AS 'T2' ON 'T1'.'CDSCode' = 'T2'.'CDSCode' WHERE 'T2'.'State' = 'CA' AND 'T2'.'Latitude' = (SELECT MIN('T2'.'Latitude') FROM 'schools' AS 'T2' WHERE 'T2'.'State' = 'CA')\n",
      "* **Sub-question 1:** school with the lowest latitude in the state of California\n",
      "* **Analysis:** To get the lowest latitude, we can use the MIN() function on the 'Latitude' column and filter the rows with 'State' = 'CA'.\n",
      "* **Pseudo SQL:** SELECT MIN('T2'.'Latitude') FROM 'schools' AS 'T2' WHERE 'T2'.'State' = 'CA'\n",
      "* **Sub-question 2:** school name and lowest grade in the city with the lowest latitude\n",
      "* **Analysis:** The school name and lowest grade can be obtained from the 'frpm' table. We INNER JOIN this table with 'schools' using the CDSCode column, and filter the rows for the lowest latitude and 'State' = 'CA'.\n",
      "* **Pseudo SQL:** SELECT 'T1'.'City', 'T1'.'Low Grade' FROM 'frpm' AS 'T1' INNER JOIN 'schools' AS 'T2' ON 'T1'.'CDSCode' = 'T2'.'CDSCode' WHERE 'T2'.'Latitude' = (SELECT MIN('T2'.'Latitude') FROM 'schools' AS 'T2' WHERE 'T2'.'State' = 'CA')\n",
      "\n",
      "**2. Assembling SQL:**\n",
      "\n",
      "* **Sub-question 1 (school with the lowest latitude in the state of California):**\n",
      "\t+ **SQL:** SELECT MIN('T2'.'Latitude') FROM 'schools' AS 'T2' WHERE 'T2'.'State' = 'CA'\n",
      "* **Sub-question 2 (school name and lowest grade in the city with the lowest latitude):**\n",
      "\t+ **SQL:** SELECT 'T1'.'City', 'T1'.'Low Grade' FROM 'frpm' AS 'T1' INNER JOIN 'schools' AS 'T2' ON 'T1'.'CDSCode' = 'T2'.'CDSCode' WHERE 'T2'.'Latitude' = (SELECT MIN('T2'.'Latitude') FROM 'schools' AS 'T2' WHERE 'T2'.'State' = 'CA')\n",
      "\n",
      "**Main Question (complete query):**\n",
      "\n",
      "* **SQL:** SELECT 'T1'.'City', 'T1'.'Low Grade', 'T2'.'Latitude' FROM 'frpm' AS 'T1' INNER JOIN 'schools' AS 'T2' ON 'T1'.'CDSCode' = 'T2'.'CDSCode' WHERE 'T2'.'State' = 'CA' AND 'T2'.'Latitude' = (SELECT MIN('T2'.'Latitude') FROM 'schools' AS 'T2' WHERE 'T2'.'State' = 'CA')\n"
     ]
    }
   ],
   "source": [
    "print(parse_sql_cand(answer))"
   ]
  },
  {
   "cell_type": "code",
   "execution_count": 3,
   "metadata": {},
   "outputs": [
    {
     "name": "stdout",
     "output_type": "stream",
     "text": [
      "* **Main Question:** In which city can you find the school in the state of California with the lowest latitude coordinates and what is its lowest grade? Indicate the school name.\n",
      "* **Analysis:** We need to find the school with the lowest latitude in the state of California. The school name and lowest grade are required as output.\n",
      "* **Pseudo SQL:** SELECT 'T1'.'City', 'T1'.'Low Grade', 'T2'.'Latitude' FROM 'frpm' AS 'T1' INNER JOIN 'schools' AS 'T2' ON 'T1'.'CDSCode' = 'T2'.'CDSCode' WHERE 'T2'.'State' = 'CA' AND 'T2'.'Latitude' = (SELECT MIN('T2'.'Latitude') FROM 'schools' AS 'T2' WHERE 'T2'.'State' = 'CA')\n",
      "* **Sub-question 1:** school with the lowest latitude in the state of California\n",
      "* **Analysis:** To get the lowest latitude, we can use the MIN() function on the 'Latitude' column and filter the rows with 'State' = 'CA'.\n",
      "* **Pseudo SQL:** SELECT MIN('T2'.'Latitude') FROM 'schools' AS 'T2' WHERE 'T2'.'State' = 'CA'\n",
      "* **Sub-question 2:** school name and lowest grade in the city with the lowest latitude\n",
      "* **Analysis:** The school name and lowest grade can be obtained from the 'frpm' table. We INNER JOIN this table with 'schools' using the CDSCode column, and filter the rows for the lowest latitude and 'State' = 'CA'.\n",
      "* **Pseudo SQL:** SELECT 'T1'.'City', 'T1'.'Low Grade' FROM 'frpm' AS 'T1' INNER JOIN 'schools' AS 'T2' ON 'T1'.'CDSCode' = 'T2'.'CDSCode' WHERE 'T2'.'Latitude' = (SELECT MIN('T2'.'Latitude') FROM 'schools' AS 'T2' WHERE 'T2'.'State' = 'CA')\n",
      "\n",
      "**2. Assembling SQL:**\n",
      "\n",
      "* **Sub-question 1 (school with the lowest latitude in the state of California):**\n",
      "\t+ **SQL:** SELECT MIN('T2'.'Latitude') FROM 'schools' AS 'T2' WHERE 'T2'.'State' = 'CA'\n",
      "* **Sub-question 2 (school name and lowest grade in the city with the lowest latitude):**\n",
      "\t+ **SQL:** SELECT 'T1'.'City', 'T1'.'Low Grade' FROM 'frpm' AS 'T1' INNER JOIN 'schools' AS 'T2' ON 'T1'.'CDSCode' = 'T2'.'CDSCode' WHERE 'T2'.'Latitude' = (SELECT MIN('T2'.'Latitude') FROM 'schools' AS 'T2' WHERE 'T2'.'State' = 'CA')\n",
      "\n",
      "**Main Question (complete query):**\n",
      "\n",
      "* **SQL:** SELECT 'T1'.'City', 'T1'.'Low Grade', 'T2'.'Latitude' FROM 'frpm' AS 'T1' INNER JOIN 'schools' AS 'T2' ON 'T1'.'CDSCode' = 'T2'.'CDSCode' WHERE 'T2'.'State' = 'CA' AND 'T2'.'Latitude' = (SELECT MIN('T2'.'Latitude') FROM 'schools' AS 'T2' WHERE 'T2'.'State' = 'CA')\n"
     ]
    }
   ],
   "source": [
    "print(answer)"
   ]
  },
  {
   "cell_type": "markdown",
   "metadata": {},
   "source": [
    "## Query Plan COT"
   ]
  },
  {
   "cell_type": "code",
   "execution_count": 4,
   "metadata": {},
   "outputs": [],
   "source": [
    "from src.cand_gen.utils import query_plan_cot\n",
    "\n",
    "answer = query_plan_cot(\n",
    "    database_name = database,\n",
    "    database_path = database_path,\n",
    "    ir = ir,\n",
    "    question = test_question,\n",
    "    hint = test_hint,\n",
    "    model = llm\n",
    ")"
   ]
  },
  {
   "cell_type": "code",
   "execution_count": 5,
   "metadata": {},
   "outputs": [
    {
     "name": "stdout",
     "output_type": "stream",
     "text": [
      "**Preparation Steps:**\n",
      "1. Initialize the process: Start preparing to execute the query.\n",
      "2. Prepare storage: Set up storage space (registers) to hold temporary results, initializing them to NULL.\n",
      "3. Open the schools table: Open the schools table so we can read from it.\n",
      "4. Open the coordinates table: Open the coordinates table so we can read from it.\n",
      "**Finding the School with Lowest Latitude:**\n",
      "1. Start reading the coordinates table: Move to the first row in the coordinates table.\n",
      "2. Check if the state matches: Look at the state column of the current row in coordinates. If it's not 'CA', skip this row.\n",
      "3. Identify the matching row: Store the identifier (row ID) of this coordinates entry.\n",
      "4. Find the corresponding school row: Use the row ID from coordinates to directly find the matching row in schools.\n",
      "5. Check if the current school has the lowest latitude: Compare the latitude value with the current minimum value. If it's lower, store the school ID, name, and grade as the new minimum.\n",
      "6. Move to the next row in coordinates: Go back to the coordinates table and move to the next row, repeating the process until all rows are checked.\n",
      "**Delivering the Result:**\n",
      "1. Output the result: Return the city, school name, and lowest grade for the school with the lowest latitude coordinates in California.\n",
      "2. End the process: Stop the query execution process.\n",
      "3. Setup phase: Before starting the actual query execution, the system prepares the specific value it will be looking for, like 'CA'.\n",
      "**Final Optimized SQL Query:**\n",
      "```vbnet\n",
      "SELECT T1.city, T1.school_name, T1.lowest_grade\n",
      "FROM (\n",
      "    SELECT S1.city, S1.school_name, S1.grade, MIN(C1.latitude) AS lowest_latitude\n",
      "    FROM schools AS S1\n",
      "    INNER JOIN coordinates AS C1 ON S1.id_school = C1.id_school\n",
      "    WHERE S1.state = 'CA'\n",
      "    GROUP BY S1.id_school\n",
      ") AS T1\n",
      "WHERE T1.lowest_latitude = (\n",
      "    SELECT MIN(lowest_latitude)\n",
      "    FROM (\n",
      "        SELECT S1.city, S1.school_name, S1.grade, MIN(C1.latitude) AS lowest_latitude\n",
      "        FROM schools AS S1\n",
      "        INNER JOIN coordinates AS C1 ON S1.id_school = C1.id_school\n",
      "        WHERE S1.state = 'CA'\n",
      "        GROUP BY S1.id_school\n",
      "    ) AS T2\n",
      ");\n",
      "```\n"
     ]
    }
   ],
   "source": [
    "print(answer)"
   ]
  },
  {
   "cell_type": "code",
   "execution_count": 6,
   "metadata": {},
   "outputs": [
    {
     "name": "stdout",
     "output_type": "stream",
     "text": [
      "with Lowest Latitude:**\n",
      "1. Start reading the coordinates table: Move to the first row in the coordinates table.\n",
      "2. Check if the state matches: Look at the state column of the current row in coordinates. If it's not 'CA', skip this row.\n",
      "3. Identify the matching row: Store the identifier (row ID) of this coordinates entry.\n",
      "4. Find the corresponding school row: Use the row ID from coordinates to directly find the matching row in schools.\n",
      "5. Check if the current school has the lowest latitude: Compare the latitude value with the current minimum value. If it's lower, store the school ID, name, and grade as the new minimum.\n",
      "6. Move to the next row in coordinates: Go back to the coordinates table and move to the next row, repeating the process until all rows are checked.\n",
      "**Delivering the Result:**\n",
      "1. Output the result: Return the city, school name, and lowest grade for the school with the lowest latitude coordinates in California.\n",
      "2. End the process: Stop the query execution process.\n",
      "3. Setup phase: Before starting the actual query execution, the system prepares the specific value it will be looking for, like 'CA'.\n",
      "**Final Optimized SQL Query:**\n",
      "```vbnet\n",
      "SELECT T1.city, T1.school_name, T1.lowest_grade\n",
      "FROM (\n",
      "    SELECT S1.city, S1.school_name, S1.grade, MIN(C1.latitude) AS lowest_latitude\n",
      "    FROM schools AS S1\n",
      "    INNER JOIN coordinates AS C1 ON S1.id_school = C1.id_school\n",
      "    WHERE S1.state = 'CA'\n",
      "    GROUP BY S1.id_school\n",
      ") AS T1\n",
      "WHERE T1.lowest_latitude = (\n",
      "    SELECT MIN(lowest_latitude)\n",
      "    FROM (\n",
      "        SELECT S1.city, S1.school_name, S1.grade, MIN(C1.latitude) AS lowest_latitude\n",
      "        FROM schools AS S1\n",
      "        INNER JOIN coordinates AS C1 ON S1.id_school = C1.id_school\n",
      "        WHERE S1.state = 'CA'\n",
      "        GROUP BY S1.id_school\n",
      "    ) AS T2\n",
      ")\n"
     ]
    }
   ],
   "source": [
    "print(parse_sql_cand(answer))"
   ]
  },
  {
   "cell_type": "markdown",
   "metadata": {},
   "source": [
    "## Synthetic example gen"
   ]
  },
  {
   "cell_type": "code",
   "execution_count": 7,
   "metadata": {},
   "outputs": [],
   "source": [
    "from src.cand_gen.utils import run_synth_gen_pipeline\n",
    "\n",
    "answer = run_synth_gen_pipeline(\n",
    "    database_name = database,\n",
    "    database_path = database_path,\n",
    "    ir = ir,\n",
    "    question = test_question,\n",
    "    hint = test_hint,\n",
    "    model = llm    \n",
    ")"
   ]
  },
  {
   "cell_type": "code",
   "execution_count": 8,
   "metadata": {},
   "outputs": [
    {
     "name": "stdout",
     "output_type": "stream",
     "text": [
      "SELECT s.City, f.School Name, f.Low Grade\n",
      "FROM schools s\n",
      "JOIN frpm f ON s.CDSCode = f.CDSCode\n",
      "WHERE s.State = 'CA'\n",
      "AND s.Latitude = (SELECT MIN(Latitude) FROM schools WHERE State = 'CA')\n",
      "LIMIT 1\n"
     ]
    }
   ],
   "source": [
    "print(parse_sql_cand(answer))"
   ]
  }
 ],
 "metadata": {
  "kernelspec": {
   "display_name": "sqlcopilot-cwclWRYE-py3.10",
   "language": "python",
   "name": "python3"
  },
  "language_info": {
   "codemirror_mode": {
    "name": "ipython",
    "version": 3
   },
   "file_extension": ".py",
   "mimetype": "text/x-python",
   "name": "python",
   "nbconvert_exporter": "python",
   "pygments_lexer": "ipython3",
   "version": "3.10.4"
  }
 },
 "nbformat": 4,
 "nbformat_minor": 2
}
