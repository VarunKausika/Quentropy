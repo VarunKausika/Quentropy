{
 "cells": [
  {
   "cell_type": "code",
   "execution_count": 2,
   "metadata": {},
   "outputs": [],
   "source": [
    "import json\n",
    "import random\n",
    "\n",
    "def load_json(file_path):\n",
    "    with open(file_path, 'r') as f:\n",
    "        data = json.load(f)\n",
    "\n",
    "    return data\n",
    "\n",
    "def sample_questions(data, sample_size, seed=42):\n",
    "    random.seed(seed)\n",
    "\n",
    "    simple_questions = [q for q in data if q['difficulty'] == 'simple']\n",
    "    moderate_questions = [q for q in data if q['difficulty'] == 'moderate']\n",
    "    challenging_questions = [q for q in data if q['difficulty'] == 'challenging']\n",
    "\n",
    "    num_each = sample_size//3\n",
    "\n",
    "    sampled_simple = random.sample(simple_questions, min(num_each, len(simple_questions)))\n",
    "    sampled_moderate = random.sample(moderate_questions, min(num_each, len(moderate_questions)))\n",
    "    sampled_challenging = random.sample(challenging_questions, min(num_each, len(challenging_questions)))\n",
    "\n",
    "    sampled_questions = sampled_simple + sampled_moderate + sampled_challenging\n",
    "\n",
    "    return sampled_questions\n",
    "\n",
    "file_path = '../data/sub_sampled_bird_dev_set.json'\n",
    "\n",
    "data = load_json(file_path=file_path)\n",
    "sampled_questions = sample_questions(data, 50)\n"
   ]
  },
  {
   "cell_type": "code",
   "execution_count": 4,
   "metadata": {},
   "outputs": [],
   "source": [
    "with open('../data/subsampled_50.json', 'w') as f:\n",
    "    json.dump(sampled_questions, f)"
   ]
  },
  {
   "cell_type": "markdown",
   "metadata": {},
   "source": []
  },
  {
   "cell_type": "markdown",
   "metadata": {},
   "source": []
  }
 ],
 "metadata": {
  "kernelspec": {
   "display_name": "Python 3",
   "language": "python",
   "name": "python3"
  },
  "language_info": {
   "codemirror_mode": {
    "name": "ipython",
    "version": 3
   },
   "file_extension": ".py",
   "mimetype": "text/x-python",
   "name": "python",
   "nbconvert_exporter": "python",
   "pygments_lexer": "ipython3",
   "version": "3.11.9"
  }
 },
 "nbformat": 4,
 "nbformat_minor": 2
}
